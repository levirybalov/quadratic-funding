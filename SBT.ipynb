{
 "cells": [
  {
   "cell_type": "markdown",
   "id": "8244b026-1b2a-473d-9a70-8b20b7d3e5c9",
   "metadata": {},
   "source": [
    "### This notebook implements the equations in the Appendix \"Adjusting Quadratic Mechanisms for Pre-Existing Cooperation\" of the paper \"Decentralized Society: Finding Web3’s Soul\" by E. Glen Weyl, Puja Ohlhaver, and Vitalik Buterin. "
   ]
  },
  {
   "cell_type": "code",
   "execution_count": 1,
   "id": "f203bf3c-bc65-4dd8-925c-e92a3b627b01",
   "metadata": {},
   "outputs": [],
   "source": [
    "import numpy as np"
   ]
  },
  {
   "cell_type": "code",
   "execution_count": 2,
   "id": "65f8e5be-c426-4d58-907a-808d97d15d2d",
   "metadata": {},
   "outputs": [],
   "source": [
    "# the agents\n",
    "agents = ['A', 'B', 'S']\n",
    "# the agents' respective contributions\n",
    "contributions = [1, 2, 3]\n",
    "# initialize a dictionary mapping each agent to their contribution\n",
    "agents_to_contributions_dict = {}\n",
    "# populate the dictionary\n",
    "for agent_index, agent in enumerate(agents):\n",
    "    agents_to_contributions_dict[agent] = contributions[agent_index]"
   ]
  },
  {
   "cell_type": "markdown",
   "id": "a7d0af56-d471-42ce-a9e8-ea40bb7c7657",
   "metadata": {},
   "source": [
    "# Simple Match"
   ]
  },
  {
   "cell_type": "code",
   "execution_count": 3,
   "id": "ae3fa001-c359-4ca3-9da0-96a6ff5f50fc",
   "metadata": {},
   "outputs": [],
   "source": [
    "def simple_match(contributions):\n",
    "    \"\"\"\n",
    "    :param contributions: An array of contributions\n",
    "    :return: A simple match to the (presumed non-cooperating) contributions based on quadratic funding\n",
    "    \"\"\"\n",
    "    \n",
    "    return np.sum(np.sqrt(contributions))**2 - np.sum(contributions)"
   ]
  },
  {
   "cell_type": "code",
   "execution_count": 4,
   "id": "d8af5b00-a16a-4926-91e8-e9ccdb48181a",
   "metadata": {},
   "outputs": [
    {
     "name": "stdout",
     "output_type": "stream",
     "text": [
      "The simple match is 11.191508225450303\n"
     ]
    }
   ],
   "source": [
    "simple_match_output = simple_match(contributions=contributions)\n",
    "print(f\"The simple match is {simple_match_output}\")"
   ]
  },
  {
   "cell_type": "markdown",
   "id": "155c5cf8-d172-4004-9934-5996e419351d",
   "metadata": {},
   "source": [
    "# Cluster Match"
   ]
  },
  {
   "cell_type": "code",
   "execution_count": 5,
   "id": "04604998-6790-436a-8688-ab1ee85d323a",
   "metadata": {},
   "outputs": [],
   "source": [
    "# initialize a dictionary mapping each cluster id to the agents in that cluster\n",
    "clusters_to_agents_dict_single_membership = {}\n",
    "# populate the dictionary\n",
    "clusters_to_agents_dict_single_membership[0] = ['A', 'S']\n",
    "clusters_to_agents_dict_single_membership[1] = ['B']"
   ]
  },
  {
   "cell_type": "code",
   "execution_count": 6,
   "id": "847bf32c-732d-4906-96de-221dafc12a31",
   "metadata": {},
   "outputs": [],
   "source": [
    "def get_contributions_from_cluster(agents_to_contributions_dict, clusters_to_agents_dict_single_membership, cluster_id):\n",
    "    \"\"\"\n",
    "    :param agents_to_contributions_dict: a dictionary mapping an agent id to their contribution\n",
    "    :param clusters_to_agents_dict_single_membership: a dictionary mapping a cluster id to the agents in that cluster\n",
    "    :param cluster_id: the id of the cluster for which we want a list of the contributions made by agents in cluster cluster_id\n",
    "    :return: a list of the contributions made by agents in cluster cluster_id\n",
    "    \"\"\"\n",
    "\n",
    "    # initialize the list of contributions from agents in the cluster\n",
    "    contributions_from_cluster = [] \n",
    "    # get the agents in the cluster\n",
    "    cluster_agents = clusters_to_agents_dict_single_membership[cluster_id] \n",
    "    for cluster_agent in cluster_agents:\n",
    "        # get the contribution of the agent\n",
    "        cluster_agent_contribution = agents_to_contributions_dict[cluster_agent]\n",
    "        # add the contribution to the list\n",
    "        contributions_from_cluster.append(cluster_agent_contribution)\n",
    "    \n",
    "    return contributions_from_cluster"
   ]
  },
  {
   "cell_type": "code",
   "execution_count": 7,
   "id": "efc93b4f-52e3-41e3-aa2e-fae9c5211b94",
   "metadata": {},
   "outputs": [],
   "source": [
    "def get_sum_of_all_contributions_from_agents_to_contributions_dict(agents_to_contributions_dict):\n",
    "    \"\"\"\n",
    "    :param agents_to_contributions_dict: a dictionary mapping an agent id to their contribution\n",
    "    :return: the sum of all contributions from all agents\n",
    "    \"\"\"\n",
    "\n",
    "    return sum(agents_to_contributions_dict.values())"
   ]
  },
  {
   "cell_type": "code",
   "execution_count": 8,
   "id": "1d16187c-dc8f-4bbb-816c-b7dfde954d4d",
   "metadata": {},
   "outputs": [],
   "source": [
    "def cluster_match(agents_to_contributions_dict, clusters_to_agents_dict_single_membership):\n",
    "    \"\"\"\n",
    "    :param agents_to_contributions_dict: a dictionary mapping an agent id to their contribution\n",
    "    :param clusters_to_agents_dict_single_membership: a dictionary mapping a cluster id to the agents in that cluster\n",
    "    :return: the cluster match\n",
    "    \"\"\"\n",
    "    \n",
    "    # the sum of the elements inside the parentheses of the Single Membership Cluster Match\n",
    "    sum_sqrt_clusters_sums = 0\n",
    "    for cluster_key, cluster_agents in clusters_to_agents_dict_single_membership.items():\n",
    "        # the sum of the elements inside one of the square root terms in the parentheses\n",
    "        current_cluster_sum = sum(get_contributions_from_cluster(agents_to_contributions_dict, clusters_to_agents_dict_single_membership, cluster_key))\n",
    "        # the square root of the sum of the elements\n",
    "        sqrt_current_cluster_sum = np.sqrt(current_cluster_sum)\n",
    "        # add the square root of the sum of the elements to the total sum inside the parentheses\n",
    "        sum_sqrt_clusters_sums += sqrt_current_cluster_sum\n",
    "    # the sum in the parentheses squared\n",
    "    sum_sqrt_clusters_sums_squared = np.power(sum_sqrt_clusters_sums, 2)\n",
    "    # the sum of the contributions from the agents\n",
    "    sum_contributions = get_sum_of_all_contributions_from_agents_to_contributions_dict(agents_to_contributions_dict)\n",
    "    # the cluster match\n",
    "    cluster_match = sum_sqrt_clusters_sums_squared - sum_contributions\n",
    "    \n",
    "    return cluster_match"
   ]
  },
  {
   "cell_type": "code",
   "execution_count": 9,
   "id": "99acb498-376d-43ca-b698-255a62ae6d46",
   "metadata": {},
   "outputs": [
    {
     "name": "stdout",
     "output_type": "stream",
     "text": [
      "The cluster match is 5.65685424949238\n"
     ]
    }
   ],
   "source": [
    "cluster_match_output = cluster_match(agents_to_contributions_dict, clusters_to_agents_dict_single_membership)\n",
    "print(f\"The cluster match is {cluster_match_output}\")"
   ]
  },
  {
   "cell_type": "markdown",
   "id": "3321b261-26c3-4959-812d-591e2430920f",
   "metadata": {},
   "source": [
    "# Offset Match"
   ]
  },
  {
   "cell_type": "code",
   "execution_count": 10,
   "id": "3e969f64-114b-4b72-9a4d-e9d8982f7808",
   "metadata": {},
   "outputs": [],
   "source": [
    "def offset_match(agents_to_contributions_dict, clusters_to_agents_dict_single_membership):\n",
    "    \"\"\"\n",
    "    :param agents_to_contributions_dict: a dictionary mapping an agent id to their contribution\n",
    "    :param clusters_to_agents_dict_single_membership: a dictionary mapping a cluster id to the agents in that cluster\n",
    "    :return: the offset match\n",
    "    \"\"\"\n",
    "    \n",
    "    # the sum of the elements inside the parentheses of the Single Membership Offset Match\n",
    "    sum_sqrt_clusters_sums = 0    \n",
    "    for cluster_key, cluster_agents in clusters_to_agents_dict_single_membership.items():\n",
    "        # the contributions from agents in the current cluster\n",
    "        contributions_from_cluster = get_contributions_from_cluster(agents_to_contributions_dict, clusters_to_agents_dict_single_membership, cluster_key)\n",
    "        # the square root of each of the contributions from agents in the current cluster\n",
    "        sqrt_current_cluster_agents = np.sqrt(contributions_from_cluster)\n",
    "        # the sum of the square roots of each of the contributions from agents in the current cluster\n",
    "        sum_sqrt_current_cluster_agents = np.sum(sqrt_current_cluster_agents)\n",
    "        # the square root of the number of contributions/agents in the cluster\n",
    "        sqrt_num_contributions_from_cluster = np.sqrt(len(contributions_from_cluster))\n",
    "        # the current cluster term (one of the elements inside the parentheses)\n",
    "        current_cluster_term = sum_sqrt_current_cluster_agents / sqrt_num_contributions_from_cluster\n",
    "        # add the current cluster term to the sum of the elements inside the parentheses \n",
    "        sum_sqrt_clusters_sums += current_cluster_term\n",
    "    # the sum in the parentheses squared\n",
    "    sum_sqrt_clusters_sums_squared = np.power(sum_sqrt_clusters_sums, 2)\n",
    "    # the sum of the contributions from the agents\n",
    "    sum_contributions = get_sum_of_all_contributions_from_agents_to_contributions_dict(agents_to_contributions_dict)\n",
    "    # the offset match\n",
    "    offset_match = sum_sqrt_clusters_sums_squared - sum_contributions\n",
    "    \n",
    "    return offset_match"
   ]
  },
  {
   "cell_type": "code",
   "execution_count": 11,
   "id": "15a9aab3-5f69-4dca-918b-ef7273432ef8",
   "metadata": {},
   "outputs": [
    {
     "name": "stdout",
     "output_type": "stream",
     "text": [
      "The offset match is 5.19615242270663\n"
     ]
    }
   ],
   "source": [
    "offset_match_output = offset_match(agents_to_contributions_dict, clusters_to_agents_dict_single_membership)\n",
    "print(f\"The offset match is {offset_match_output}\")"
   ]
  },
  {
   "cell_type": "markdown",
   "id": "d4e5f390-f71d-4d54-9c10-e4dbab3c67a6",
   "metadata": {},
   "source": [
    "# Multiple Memberships"
   ]
  },
  {
   "cell_type": "markdown",
   "id": "1adcb66d-3dec-4dcb-a61a-f03d19ac4079",
   "metadata": {},
   "source": [
    "## Cluster Match"
   ]
  },
  {
   "cell_type": "code",
   "execution_count": 12,
   "id": "0fa11701-75c5-45a0-b9fb-490f2409d8e7",
   "metadata": {},
   "outputs": [],
   "source": [
    "# initialize a dictionary mapping each cluster id to the agents in that cluster\n",
    "clusters_to_agents_dict = {}\n",
    "# populate the dictionary\n",
    "clusters_to_agents_dict[0] = ['A', 'S']\n",
    "clusters_to_agents_dict[1] = ['A', 'B']\n",
    "clusters_to_agents_dict[2] = ['S']"
   ]
  },
  {
   "cell_type": "code",
   "execution_count": 13,
   "id": "fd152633-690a-4083-a2de-8108a9858127",
   "metadata": {},
   "outputs": [],
   "source": [
    "def get_agent_to_num_clusters_participating_dict(clusters_to_agents_dict):\n",
    "    \"\"\"\n",
    "    :param clusters_to_agents_dict: a dictionary mapping a cluster id to the agents in that cluster\n",
    "    :return: a dictionary mapping an agent to the number of clusters that that agent participates in\n",
    "    \"\"\"\n",
    "\n",
    "    # initialize a dictionary mapping an agent to the number of clusters that that agent participates in\n",
    "    agent_to_num_clusters_participating_dict = {}\n",
    "    for cluster_key, cluster_agents in clusters_to_agents_dict.items():\n",
    "        for cluster_agent in cluster_agents:\n",
    "            # if an agent is in the current cluster, increment the number of clusters that they participate in by 1\n",
    "            agent_to_num_clusters_participating_dict[cluster_agent] = agent_to_num_clusters_participating_dict.get(cluster_agent, 0) + 1\n",
    "            \n",
    "    return agent_to_num_clusters_participating_dict"
   ]
  },
  {
   "cell_type": "code",
   "execution_count": 14,
   "id": "8c6a554e-385b-42f6-bc9b-f39d9f932320",
   "metadata": {},
   "outputs": [],
   "source": [
    "def get_agent_to_contributions_to_cluster_dict(agents_to_contributions_dict, clusters_to_agents_dict, cluster_id):\n",
    "    \"\"\"\n",
    "    :param agents_to_contributions_dict: a dictionary mapping an agent id to their contribution\n",
    "    :param clusters_to_agents_dict: a dictionary mapping a cluster id to the agents in that cluster\n",
    "    :param cluster_id: the id of the cluster from which we want each agent's contribution\n",
    "    :return: a dictionary mapping an agent to their contribution to cluster cluster_id\n",
    "    \"\"\"\n",
    "\n",
    "    # initialize a dictionary mapping an agent to their contribution to cluster cluster_id\n",
    "    agent_to_contributions_to_cluster_dict = {}\n",
    "    # get the agents in the cluster\n",
    "    cluster_agents = clusters_to_agents_dict[cluster_id] \n",
    "    for cluster_agent in cluster_agents:\n",
    "        # get the contribution of the current agent\n",
    "        cluster_agent_contribution = agents_to_contributions_dict[cluster_agent]\n",
    "        # add the agent and their contribution to the dictionary\n",
    "        agent_to_contributions_to_cluster_dict[cluster_agent] = cluster_agent_contribution\n",
    "    \n",
    "    return agent_to_contributions_to_cluster_dict"
   ]
  },
  {
   "cell_type": "code",
   "execution_count": 15,
   "id": "78b118b5-47a2-45b4-967c-a87602452901",
   "metadata": {},
   "outputs": [],
   "source": [
    "def get_contribution_divided_by_num_affiliations(agents_to_contributions_dict, agent_to_num_clusters_participating_dict, agent):\n",
    "    \"\"\"\n",
    "    :param agents_to_contributions_dict: a dictionary mapping an agent id to their contribution\n",
    "    :param agent_to_num_clusters_participating_dict: a dictionary mapping an agent to the number of clusters that that agent participates in\n",
    "    :param agent: the agent for which we want their contribution divided by the number of their affiliations\n",
    "    :return: the agent's contribution divided by the number of their affiliations\n",
    "    \"\"\"\n",
    "    \n",
    "    # the agent's total contribution over all clusters\n",
    "    agent_contribution = agents_to_contributions_dict[agent]\n",
    "    # the number of affiliations the agent has\n",
    "    num_agent_affiliations = agent_to_num_clusters_participating_dict[agent]\n",
    "    # the agent's total contribution divided by the number of their affiliations\n",
    "    agent_contribution_divided_by_num_affiliations = agent_contribution / num_agent_affiliations\n",
    "    \n",
    "    return agent_contribution_divided_by_num_affiliations"
   ]
  },
  {
   "cell_type": "code",
   "execution_count": 16,
   "id": "f8e07672-aeb1-4beb-b121-3b8cf28b7086",
   "metadata": {},
   "outputs": [],
   "source": [
    "def cluster_match_with_multiple_affiliations(agents_to_contributions_dict, clusters_to_agents_dict):\n",
    "    \"\"\"\n",
    "    :param agents_to_contributions_dict: a dictionary mapping an agent id to their contribution\n",
    "    :param clusters_to_agents_dict: a dictionary mapping a cluster id to the agents in that cluster\n",
    "    :return: cluster match with multiple affiliations\n",
    "    \"\"\"\n",
    "\n",
    "    # dictionary mapping each agent to the number of clusters that that agent participates in\n",
    "    agent_to_num_clusters_participating_dict = get_agent_to_num_clusters_participating_dict(clusters_to_agents_dict)\n",
    "    # the sum of the elements inside the parentheses of the Multiple Membership Cluster Match\n",
    "    sum_sqrt_clusters_sums = 0\n",
    "    for cluster_key, cluster_agents in clusters_to_agents_dict.items():\n",
    "        # initialize an empty list of the current cluster's agents' contributions divided by the agents' number of affiliations\n",
    "        current_cluster_agent_contributions_divided_by_num_affiliations = []\n",
    "        for cluster_agent in cluster_agents:\n",
    "            # get the current cluster's agent's contribution divided by the number of that agent's affiliations\n",
    "            current_cluster_agent_contribution_divided_by_num_affiliations = get_contribution_divided_by_num_affiliations(agents_to_contributions_dict, agent_to_num_clusters_participating_dict, cluster_agent)\n",
    "            # append that value to the list\n",
    "            current_cluster_agent_contributions_divided_by_num_affiliations.append(current_cluster_agent_contribution_divided_by_num_affiliations)\n",
    "        # sum the current cluster's agents' contributions divided by the agents' number of affiliations\n",
    "        sum_current_cluster_agent_contributions_divided_by_num_affiliations = np.sum(current_cluster_agent_contributions_divided_by_num_affiliations)\n",
    "        # the square root of that number\n",
    "        sqrt_sum_current_cluster_agent_contributions_divided_by_num_affiliations = np.sqrt(sum_current_cluster_agent_contributions_divided_by_num_affiliations)\n",
    "        # add that value to the total sum inside the parentheses\n",
    "        sum_sqrt_clusters_sums += sqrt_sum_current_cluster_agent_contributions_divided_by_num_affiliations\n",
    "    # the sum in the parentheses squared\n",
    "    sum_sqrt_clusters_sums_squared = np.power(sum_sqrt_clusters_sums, 2)\n",
    "    # the sum of the contributions from the agents\n",
    "    sum_contributions = get_sum_of_all_contributions_from_agents_to_contributions_dict(agents_to_contributions_dict)\n",
    "    # cluster match with multiple affiliations\n",
    "    cluster_match_with_multiple_affiliations = sum_sqrt_clusters_sums_squared - sum_contributions\n",
    "    \n",
    "    return cluster_match_with_multiple_affiliations"
   ]
  },
  {
   "cell_type": "code",
   "execution_count": 17,
   "id": "4c630616-a408-4e2c-9b71-92c7165779fe",
   "metadata": {},
   "outputs": [
    {
     "name": "stdout",
     "output_type": "stream",
     "text": [
      "The cluster match with multiple affiliations is 11.809220916344756\n"
     ]
    }
   ],
   "source": [
    "cluster_match_with_multiple_affiliations_output = cluster_match_with_multiple_affiliations(agents_to_contributions_dict, clusters_to_agents_dict)\n",
    "print(f\"The cluster match with multiple affiliations is {cluster_match_with_multiple_affiliations_output}\")"
   ]
  },
  {
   "cell_type": "markdown",
   "id": "ba4510b7-f319-492b-b938-a6eb9cfc28c7",
   "metadata": {},
   "source": [
    "## Offset Match"
   ]
  },
  {
   "cell_type": "code",
   "execution_count": 18,
   "id": "ab6140f6-6c48-4074-b511-864c0f8fe908",
   "metadata": {},
   "outputs": [],
   "source": [
    "def get_solution_to_system_of_linear_equations(A, b):\n",
    "    \"\"\"\n",
    "    :param A: coefficient matrix\n",
    "    :param b: column vector\n",
    "    :return: solution to the system of linear equations defined by A and b\n",
    "    \"\"\"\n",
    "        \n",
    "    return np.linalg.solve(A, b)"
   ]
  },
  {
   "cell_type": "code",
   "execution_count": 19,
   "id": "4e6e526e-595c-4ca6-991a-db16c8e45432",
   "metadata": {},
   "outputs": [],
   "source": [
    "coefficient_matrix_affiliations = np.array([\n",
    "                       [1, 1/2, 1/4],\n",
    "                       [1/2, 1, 0],\n",
    "                       [1/4, 0, 1]\n",
    "                      ])\n",
    "b = np.array([1, 1, 1])"
   ]
  },
  {
   "cell_type": "code",
   "execution_count": 20,
   "id": "a6d100de-862e-4a20-97fa-0816ea10d703",
   "metadata": {},
   "outputs": [],
   "source": [
    "def offset_match_with_multiple_affiliations(agents_to_contributions_dict, clusters_to_agents_dict, coefficient_matrix_affiliations, b):\n",
    "    \"\"\"\n",
    "    :param agents_to_contributions_dict: a dictionary mapping an agent id to their contribution\n",
    "    :param clusters_to_agents_dict: a dictionary mapping a cluster id to the agents in that cluster\n",
    "    :param coefficient_matrix_affiliations: coefficient matrix defining the affiliations\n",
    "    :param b: column vector\n",
    "    :return: offset match with multiple affiliations\n",
    "    \"\"\"\n",
    "\n",
    "    # solution to the system of linear equations defined by the affiliation coefficient matrix and b\n",
    "    solution_to_system_of_linear_equations = get_solution_to_system_of_linear_equations(coefficient_matrix_affiliations, b)\n",
    "    # the term in parentheses squared\n",
    "    term_on_the_left = np.power(np.sum(np.sqrt(np.multiply(solution_to_system_of_linear_equations, np.array(list(agents_to_contributions_dict.values()))))), 2)\n",
    "    # the sum of the contributions from the agents\n",
    "    sum_contributions = get_sum_of_all_contributions_from_agents_to_contributions_dict(agents_to_contributions_dict)\n",
    "    # offset match with multiple affiliations\n",
    "    offset_match_with_multiple_affiliations = term_on_the_left - sum_contributions\n",
    "    \n",
    "    return offset_match_with_multiple_affiliations"
   ]
  },
  {
   "cell_type": "code",
   "execution_count": 21,
   "id": "1cb71005-7dda-454a-a9c5-03252f128239",
   "metadata": {},
   "outputs": [
    {
     "name": "stdout",
     "output_type": "stream",
     "text": [
      "The offset match with multiple affiliations is 6.486842291197528\n"
     ]
    }
   ],
   "source": [
    "offset_match_with_multiple_affiliations_output = offset_match_with_multiple_affiliations(agents_to_contributions_dict, clusters_to_agents_dict, coefficient_matrix_affiliations, b)\n",
    "print(f\"The offset match with multiple affiliations is {offset_match_with_multiple_affiliations_output}\")"
   ]
  },
  {
   "cell_type": "markdown",
   "id": "51e102f4-1e03-4022-bc27-8cb179142d6e",
   "metadata": {},
   "source": [
    "# General Formulae"
   ]
  },
  {
   "cell_type": "markdown",
   "id": "18a7b124-0934-4631-913e-323d735f8275",
   "metadata": {},
   "source": [
    "## Cluster Match"
   ]
  },
  {
   "cell_type": "markdown",
   "id": "632c16d1-580b-4210-9742-d0bad2b24ec3",
   "metadata": {
    "tags": []
   },
   "source": [
    "```cluster_match_with_multiple_affiliations``` already implements the general formula for cluster match."
   ]
  },
  {
   "cell_type": "markdown",
   "id": "8be9fa3d-2880-4fb1-bcdb-225dcaca22f6",
   "metadata": {},
   "source": [
    "## Offset Match"
   ]
  },
  {
   "cell_type": "code",
   "execution_count": 22,
   "id": "e1cb64ac-ffd6-4c70-bcbd-c6b75c6c4c01",
   "metadata": {},
   "outputs": [],
   "source": [
    "def get_num_common_affiliations(clusters_to_agents_dict, agent1, agent2):\n",
    "    \"\"\"\n",
    "    :param clusters_to_agents_dict: a dictionary mapping a cluster id to the agents in that cluster\n",
    "    :param agent1: the first agent\n",
    "    :param agent2: the second agent\n",
    "    :return: the number of affiliations that the first agent and the second agent have in common\n",
    "    \"\"\"\n",
    "    \n",
    "    # initialize the number of common affiliations\n",
    "    num_common_affiliations = 0\n",
    "    for cluster_key, cluster_agents in clusters_to_agents_dict.items():\n",
    "        # if both agents are in the current cluster\n",
    "        if (agent1 in cluster_agents) and (agent2 in cluster_agents):\n",
    "            # increment the number of common affiliations\n",
    "            num_common_affiliations += 1\n",
    "            \n",
    "    return num_common_affiliations"
   ]
  },
  {
   "cell_type": "code",
   "execution_count": 23,
   "id": "fcfe25ce-bcad-4eeb-9c71-3958f8611816",
   "metadata": {},
   "outputs": [],
   "source": [
    "def get_correlation_score(clusters_to_agents_dict, agent1, agent2):\n",
    "    \"\"\"\n",
    "    :param clusters_to_agents_dict: a dictionary mapping a cluster id to the agents in that cluster\n",
    "    :param agent1: the first agent\n",
    "    :param agent2: the second agent\n",
    "    :return: the (ordered) correlation score between the first agent and the second agent\n",
    "    \"\"\"\n",
    "    \n",
    "    # dictionary mapping each agent to the number of clusters that that agent participates in\n",
    "    agent_to_num_clusters_participating_dict = get_agent_to_num_clusters_participating_dict(clusters_to_agents_dict)\n",
    "    # number of affiliations the first agent has\n",
    "    num_clusters_agent1_participates_in = agent_to_num_clusters_participating_dict[agent1] \n",
    "    # the (ordered) correlation score between the first agent and the second agent\n",
    "    correlation_score = get_num_common_affiliations(clusters_to_agents_dict, agent1, agent2) / num_clusters_agent1_participates_in\n",
    "    \n",
    "    return correlation_score"
   ]
  },
  {
   "cell_type": "code",
   "execution_count": 24,
   "id": "23b3817c-8ddf-40af-991a-49214a8bcad3",
   "metadata": {},
   "outputs": [],
   "source": [
    "def get_coefficients_for_affiliation_matrix(agents_to_contributions_dict, clusters_to_agents_dict, agents):\n",
    "    \"\"\"\n",
    "    :param agents_to_contributions_dict: a dictionary mapping an agent id to their contribution\n",
    "    :param clusters_to_agents_dict: a dictionary mapping a cluster id to the agents in that cluster\n",
    "    :param agents: the agents \n",
    "    :return: the coefficients of the affiliation matrix\n",
    "    \"\"\"\n",
    "\n",
    "    # initialize the coefficient matrix\n",
    "    coefficient_matrix = []\n",
    "    for agent_index, agent1 in enumerate(agents):\n",
    "        # initialize the current row's coefficients\n",
    "        current_row_coefficients = []\n",
    "        for agent_index, agent2 in enumerate(agents):\n",
    "            # get the (ordered) correlation score between the first agent and the second agent\n",
    "            current_correlation_score = get_correlation_score(clusters_to_agents_dict, agent1, agent2)\n",
    "            # add that correlation score to the current row's coefficients\n",
    "            current_row_coefficients.append(current_correlation_score)\n",
    "        # add that row of coefficients to the coefficient matrix\n",
    "        coefficient_matrix.append(current_row_coefficients)\n",
    "    \n",
    "    return coefficient_matrix"
   ]
  },
  {
   "cell_type": "code",
   "execution_count": 25,
   "id": "30d76e55-6b80-4fc1-894a-fd67cf3726f8",
   "metadata": {},
   "outputs": [],
   "source": [
    "def offset_match_general_formula(agents_to_contributions_dict, clusters_to_agents_dict, agents):\n",
    "    \"\"\"\n",
    "    :param agents_to_contributions_dict: a dictionary mapping an agent id to their contribution\n",
    "    :param clusters_to_agents_dict: a dictionary mapping a cluster id to the agents in that cluster\n",
    "    :param agents: the agents \n",
    "    :return: the offset match derived from the general formula\n",
    "    \"\"\"\n",
    "\n",
    "    # the coefficient matrix defining the affiliations\n",
    "    coefficient_matrix = get_coefficients_for_affiliation_matrix(agents_to_contributions_dict, clusters_to_agents_dict, agents)\n",
    "    # the column vector\n",
    "    b = np.ones(len(agents))\n",
    "    # the offset match\n",
    "    offset_match_general_formula = offset_match_with_multiple_affiliations(agents_to_contributions_dict, clusters_to_agents_dict, coefficient_matrix_affiliations, b)\n",
    "    \n",
    "    return offset_match_general_formula"
   ]
  },
  {
   "cell_type": "code",
   "execution_count": 26,
   "id": "d77b18c2-a91f-4bb8-874e-25714226cc4d",
   "metadata": {},
   "outputs": [
    {
     "name": "stdout",
     "output_type": "stream",
     "text": [
      "The offset match with multiple affiliations derived from the general formula is 6.486842291197528\n"
     ]
    }
   ],
   "source": [
    "offset_match_general_formula_output = offset_match_general_formula(agents_to_contributions_dict, clusters_to_agents_dict, agents)\n",
    "print(f\"The offset match with multiple affiliations derived from the general formula is {offset_match_general_formula_output}\")"
   ]
  },
  {
   "cell_type": "markdown",
   "id": "8191099e-fb2a-4dc4-ba8d-b318f7bc6717",
   "metadata": {},
   "source": [
    "# Pairwise Matching"
   ]
  },
  {
   "cell_type": "code",
   "execution_count": 27,
   "id": "fc44c72a-4194-46d3-af74-c491395ced38",
   "metadata": {},
   "outputs": [],
   "source": [
    "# matching cap\n",
    "M = 10\n",
    "# number of agents\n",
    "num_agents = 5\n",
    "# number of projects\n",
    "num_projects = 2\n",
    "# the minimum contribution \n",
    "min_contribution = 0\n",
    "# the maximum contribution\n",
    "max_contribution = 100\n",
    "# a random matrix defining each agent's contribution to each project, bounded by the minimum and maximum contributions\n",
    "contribution_matrix = np.random.randint(low=min_contribution, high=max_contribution, size=[num_agents, num_projects])"
   ]
  },
  {
   "cell_type": "code",
   "execution_count": 28,
   "id": "89381caa-523f-40f6-8d77-36a126307eee",
   "metadata": {},
   "outputs": [],
   "source": [
    "def get_correlation_elements(contribution_matrix):\n",
    "    \"\"\"\n",
    "    :param contribution_matrix: a matrix defining each agent's contribution to each project\n",
    "    :return: for each agent, and for each project, the square root of (their contribution * each other agent's contribution)\n",
    "             i.e. the geometric mean of each pair of agents' contributions to each project\n",
    "             with resulting shape (num agents, num agents, num projects)\n",
    "    \"\"\"\n",
    "\n",
    "    # note: this calculation process can be made more efficient with numpy broadcasting\n",
    "    # initialize the resulting matrix\n",
    "    correlation_elements = []\n",
    "    for row1_index, row1 in enumerate(contribution_matrix):\n",
    "        # initialize the current row's elements\n",
    "        row1_correlation_elements = []\n",
    "        for row2_index, row2 in enumerate(contribution_matrix):\n",
    "            # the square roots of the pointwise multiplication between the contributions \n",
    "            # in the row in the outer loop and the contributions in the row in the inner loop\n",
    "            current_correlation_elements = np.sqrt(np.multiply(row1, row2))\n",
    "            # add the current correlation elements from the current outer and inner loop rows to the outer loop row's correlation elements\n",
    "            row1_correlation_elements.append(current_correlation_elements)\n",
    "        # add the correlation elements for the current row to resulting matrix\n",
    "        correlation_elements.append(row1_correlation_elements)\n",
    "        \n",
    "    return correlation_elements"
   ]
  },
  {
   "cell_type": "code",
   "execution_count": 29,
   "id": "65daf138-de9d-44e2-a608-0d835a7a80f5",
   "metadata": {},
   "outputs": [],
   "source": [
    "def get_correlation_scores(contribution_matrix, correlation_elements):\n",
    "    \"\"\"\n",
    "    :param contribution_matrix: a matrix defining each agent's contribution to each project\n",
    "    :param correlation_elements: for each agent, and for each project, the square root of (their contribution * each other agent's contribution)\n",
    "                                 i.e. the geometric mean of each pair of agents' contributions to each project, with shape (num agents, num agents, num projects)\n",
    "    :return: the correlation scores between all the agents, with shape (num agents, num agents)\n",
    "    \"\"\"\n",
    "\n",
    "    # initialize the resulting matrix\n",
    "    correlation_scores = []\n",
    "    for row1_index, row1 in enumerate(contribution_matrix):\n",
    "        # initialize the list of correlation scores between the agent in the outer loop and all the other agents\n",
    "        row1_correlation_scores = []\n",
    "        for row2_index, row2 in enumerate(contribution_matrix):\n",
    "            # calculate the correlation score between the agent in the outer loop and the agent in the inner loop\n",
    "            correlation_score = np.sum(correlation_elements[row1_index][row2_index])\n",
    "            # add the current correlation score to the agent in the outer loop's list of correlation scores \n",
    "            row1_correlation_scores.append(correlation_score)\n",
    "        # add the agent in the outer loop's correlation scores to the resulting matrix\n",
    "        correlation_scores.append(row1_correlation_scores)\n",
    "\n",
    "    return correlation_scores"
   ]
  },
  {
   "cell_type": "code",
   "execution_count": 30,
   "id": "23d95264-7963-4bf3-b3f0-531c80345090",
   "metadata": {},
   "outputs": [],
   "source": [
    "def pairwise_matching(contribution_matrix, num_agents, num_projects):\n",
    "    \"\"\"\n",
    "    :param contribution_matrix: a matrix defining each agent's contribution to each project\n",
    "    :param num_agents: the number of agents\n",
    "    :param num_projects: the number of projects                       \n",
    "    :return: the match matrix, with shape (num agents, num agents, num projects)\n",
    "    \"\"\"\n",
    "\n",
    "    # the resulting matrix\n",
    "    pairwise_matching_matrix = np.zeros(shape=[num_agents, num_agents, num_projects])\n",
    "    # the correlation elements\n",
    "    correlation_elements = get_correlation_elements(contribution_matrix)\n",
    "    # the correlation scores\n",
    "    correlation_scores = get_correlation_scores(contribution_matrix, correlation_elements)\n",
    "    for agent1_index in range(num_agents):\n",
    "        for agent2_index in range(num_agents):\n",
    "            for project_index in range(num_projects):\n",
    "                # calculate the match matrix entry for the match for the outer loop agent, the inner loop agent, and the current project\n",
    "                # note: since we are summing over ordered pairs, we use M as the coefficient, rather than 2M\n",
    "                pairwise_matching_matrix[agent1_index, agent2_index, project_index] = (M * correlation_elements[agent1_index][agent2_index][project_index]) / (M + correlation_scores[agent1_index][agent2_index])\n",
    "                \n",
    "    return pairwise_matching_matrix"
   ]
  },
  {
   "cell_type": "code",
   "execution_count": 31,
   "id": "2fc85998-78eb-41ea-b490-7e5c7ecc1be8",
   "metadata": {},
   "outputs": [
    {
     "name": "stdout",
     "output_type": "stream",
     "text": [
      "The pairwise matching is \n",
      "\n",
      " [[[5.62962963 3.62962963]\n",
      "  [5.09613983 3.99091938]\n",
      "  [5.91459781 3.39296114]\n",
      "  [5.74347306 3.48009831]\n",
      "  [4.71414767 4.50534719]]\n",
      "\n",
      " [[5.09613983 3.99091938]\n",
      "  [4.55555556 4.33333333]\n",
      "  [5.38739228 3.75388875]\n",
      "  [5.20824486 3.83316443]\n",
      "  [4.19065406 4.86469956]]\n",
      "\n",
      " [[5.91459781 3.39296114]\n",
      "  [5.38739228 3.75388875]\n",
      "  [6.19354839 3.16129032]\n",
      "  [6.02625782 3.24889602]\n",
      "  [5.00585419 4.25671385]]\n",
      "\n",
      " [[5.74347306 3.48009831]\n",
      "  [5.20824486 3.83316443]\n",
      "  [6.02625782 3.24889602]\n",
      "  [5.85365854 3.33333333]\n",
      "  [4.83494591 4.34261309]]\n",
      "\n",
      " [[4.71414767 4.50534719]\n",
      "  [4.19065406 4.86469956]\n",
      "  [5.00585419 4.25671385]\n",
      "  [4.83494591 4.34261309]\n",
      "  [3.80952381 5.3968254 ]]]\n"
     ]
    }
   ],
   "source": [
    "pairwise_matching_matrix_output = pairwise_matching(contribution_matrix, num_agents, num_projects)\n",
    "print(f\"The pairwise matching is \\n\\n {pairwise_matching_matrix_output}\")"
   ]
  }
 ],
 "metadata": {
  "kernelspec": {
   "display_name": "Python 3 (ipykernel)",
   "language": "python",
   "name": "python3"
  },
  "language_info": {
   "codemirror_mode": {
    "name": "ipython",
    "version": 3
   },
   "file_extension": ".py",
   "mimetype": "text/x-python",
   "name": "python",
   "nbconvert_exporter": "python",
   "pygments_lexer": "ipython3",
   "version": "3.9.13"
  }
 },
 "nbformat": 4,
 "nbformat_minor": 5
}
