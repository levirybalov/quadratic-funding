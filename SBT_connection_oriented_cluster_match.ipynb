{
 "cells": [
  {
   "cell_type": "markdown",
   "id": "e4a5319c-072e-4404-a837-98d717b3276a",
   "metadata": {},
   "source": [
    "### This notebook implements the connection-oriented cluster match in the paper \"Beyond Collusion Resistance: Leveraging Social Information for Plural Funding and Voting\" by Joel Miller, E. Glen Weyl, and Leon Erichsen."
   ]
  },
  {
   "cell_type": "code",
   "execution_count": 1,
   "id": "d75037ab-8382-4577-9b7d-31dfcdef9421",
   "metadata": {},
   "outputs": [],
   "source": [
    "import numpy as np    \n",
    "\n",
    "# !pip install import_ipynb\n",
    "import import_ipynb"
   ]
  },
  {
   "cell_type": "code",
   "execution_count": 2,
   "id": "9fa6ba8c-248d-40f7-8913-479fd3169523",
   "metadata": {},
   "outputs": [],
   "source": [
    "%%capture  \n",
    "from SBT import *\n",
    "from SBT_simulation import *"
   ]
  },
  {
   "cell_type": "code",
   "execution_count": 3,
   "id": "603dcc93-2999-435a-b366-c594d160ca5e",
   "metadata": {},
   "outputs": [],
   "source": [
    "def get_agents_to_clusters_dict_from_clusters_to_agents_dict(clusters_to_agents_dict):\n",
    "    \"\"\"\n",
    "    :param clusters_to_agents_dict: a dictionary mapping a cluster id to the agents in that cluster\n",
    "    :return: a dictionary mapping a agents to the clusters those agents are a part of\n",
    "    \"\"\"\n",
    "\n",
    "    agents_to_clusters_dict = {}\n",
    "    for num_agent, agent in enumerate(agents):\n",
    "        clusters_that_agent_is_in = []\n",
    "        for cluster, agents_in_cluster in clusters_to_agents_dict.items():\n",
    "            if agent in agents_in_cluster:\n",
    "                clusters_that_agent_is_in.append(cluster)\n",
    "        agents_to_clusters_dict[agent] = clusters_that_agent_is_in\n",
    "                \n",
    "    return agents_to_clusters_dict"
   ]
  },
  {
   "cell_type": "code",
   "execution_count": 4,
   "id": "07c199ae-3695-436b-bb15-53663f34c98a",
   "metadata": {},
   "outputs": [],
   "source": [
    "def get_closeness_matrix(clusters_to_agents_dict, agents_to_clusters_dict):\n",
    "    \"\"\"\n",
    "    :param clusters_to_agents_dict: a dictionary mapping a cluster id to the agents in that cluster\n",
    "    :param agents_to_clusters_dict: a dictionary mapping a cluster id to the agents in that cluster\n",
    "    :return: a num_agents x num_agents matrix, where each entry ij is the number of clusters that agent i and agent j have in common\n",
    "    \"\"\"\n",
    "    \n",
    "    closeness_matrix = np.zeros(shape=(len(agents), len(agents)), dtype=int)    \n",
    "    for num_agent1, agent1 in enumerate(agents):\n",
    "        agent1_int = int(agent1)\n",
    "        for num_agent2, agent2 in enumerate(agents[num_agent1:]):\n",
    "            agent2_int = int(agent2)\n",
    "            closeness_matrix[agent1_int, agent2_int] = closeness_matrix[agent2_int, agent1_int] = get_num_common_clusters(agent1, agent2, agents_to_clusters_dict)\n",
    "            \n",
    "    return closeness_matrix"
   ]
  },
  {
   "cell_type": "code",
   "execution_count": 5,
   "id": "f5047343-d21d-4f6b-903f-11012ccc9da4",
   "metadata": {},
   "outputs": [],
   "source": [
    "def attenuation_modification(agent_contribution):\n",
    "    \"\"\"\n",
    "    :param agent_contribution: the contribution of the agent\n",
    "    :return: the attenuation modification function applied to the agent's contribution\n",
    "    \"\"\"\n",
    "    \n",
    "    return np.sqrt(agent_contribution)"
   ]
  },
  {
   "cell_type": "code",
   "execution_count": 6,
   "id": "0cf691f7-1755-4269-ad3e-790d72df3a27",
   "metadata": {},
   "outputs": [],
   "source": [
    "def get_attenuation(agent, cluster, clusters_to_agents_dict, agents_to_clusters_dict, closeness_matrix, agents_to_contributions_dict):\n",
    "    \"\"\"\n",
    "    :param agent: the agent for which we want to calculate the attentuation\n",
    "    :param cluster: the corresponding cluster for which we want to calculate the attentuation\n",
    "    :param clusters_to_agents_dict: a dictionary mapping a cluster id to the agents in that cluster\n",
    "    :param agents_to_clusters_dict: a dictionary mapping a cluster id to the agents in that cluster\n",
    "    :param closeness_matrix: a num_agents x num_agents matrix, where each entry ij is the number of clusters that agent i and agent j have in common\n",
    "    :param agents_to_contributions_dict: a dictionary mapping an agent id to their contribution\n",
    "    :return: the attenuation of the agent's contribution\n",
    "    \"\"\"\n",
    "    \n",
    "    agent_contribution = agents_to_contributions_dict[agent]\n",
    "    agents_in_cluster = clusters_to_agents_dict[cluster]\n",
    "    if (agent in agents_in_cluster):\n",
    "        return attenuation_modification(agent_contribution)\n",
    "    agent1_int = int(agent)\n",
    "    for agent_in_cluster in agents_in_cluster:\n",
    "        agent2_int = int(agent_in_cluster)\n",
    "        if closeness_matrix[agent1_int, agent2_int] >= 1:\n",
    "            return attenuation_modification(agent_contribution)        \n",
    "    else:\n",
    "        return agent_contribution"
   ]
  },
  {
   "cell_type": "code",
   "execution_count": 7,
   "id": "517941d4-073a-4bcf-b68f-6697f1f09031",
   "metadata": {},
   "outputs": [],
   "source": [
    "def get_num_common_clusters(agent1, agent2, agents_to_clusters_dict):\n",
    "    \"\"\"\n",
    "    :param agent1: the first agent\n",
    "    :param agent2: the second agent\n",
    "    :param agents_to_clusters_dict: a dictionary mapping a cluster id to the agents in that cluster\n",
    "    :return: the number of clusters the two agents have in common\n",
    "    \"\"\"\n",
    "    \n",
    "    agent1_clusters = agents_to_clusters_dict[agent1]\n",
    "    agent2_clusters = agents_to_clusters_dict[agent2]\n",
    "    num_common_clusters = len(set(agent1_clusters).intersection(set(agent2_clusters)))\n",
    "    \n",
    "    return num_common_clusters"
   ]
  },
  {
   "cell_type": "code",
   "execution_count": 8,
   "id": "bc5327d4-eb6f-4ade-8c83-9e376dc3b76f",
   "metadata": {},
   "outputs": [],
   "source": [
    "# initialize variables\n",
    "clusters_to_agents_dict, agent_budgets, agent_private_beliefs, agent_agent_cluster_affiliation_matrix, cluster_project_affiliation_matrix = initialize_variables()\n",
    "agents_to_clusters_dict = get_agents_to_clusters_dict_from_clusters_to_agents_dict(clusters_to_agents_dict)\n",
    "closeness_matrix = get_closeness_matrix(clusters_to_agents_dict, agents_to_clusters_dict)    \n",
    "# get the agents' modified beliefs (public voices)\n",
    "agent_private_beliefs_modified_with_project_affiliations = account_for_affiliations(agent_budgets, agent_private_beliefs, agent_agent_cluster_affiliation_matrix, cluster_project_affiliation_matrix)\n",
    "# create the dictionary mapping projects to dictionaries mapping each agent's contribution to that project\n",
    "project_to_agents_to_contributions_dict_dict = create_project_to_agents_to_contributions_dict_dict(agent_private_beliefs_modified_with_project_affiliations)\n",
    "# pick the first project to use in this example\n",
    "agents_to_contributions_dict = project_to_agents_to_contributions_dict_dict[0]"
   ]
  },
  {
   "cell_type": "code",
   "execution_count": 9,
   "id": "4bb1a0a9-814e-498a-8ea1-c021e736cd9f",
   "metadata": {},
   "outputs": [],
   "source": [
    "def connection_oriented_cluster_match(agents_to_contributions_dict, clusters_to_agents_dict):\n",
    "    \"\"\"\n",
    "    :param agents_to_contributions_dict: a dictionary mapping an agent id to their contribution\n",
    "    :param clusters_to_agents_dict: a dictionary mapping a cluster id to the agents in that cluster\n",
    "    :return: connection-oriented cluster match\n",
    "    \"\"\"\n",
    "    \n",
    "    term_on_the_left = sum(agents_to_contributions_dict.values())\n",
    "    \n",
    "    # dictionary mapping each agent to the number of clusters that that agent participates in\n",
    "    agent_to_num_clusters_participating_dict = get_agent_to_num_clusters_participating_dict(clusters_to_agents_dict)\n",
    "    term_on_the_right = 0\n",
    "    clusters = list(clusters_to_agents_dict.keys())\n",
    "    for num_cluster1, cluster1 in enumerate(clusters):\n",
    "        agents_in_cluster1 = clusters_to_agents_dict[cluster1]\n",
    "        for num_cluster2, cluster2 in enumerate(clusters[num_cluster1:]):\n",
    "            agents_in_cluster2 = clusters_to_agents_dict[cluster2]                \n",
    "                \n",
    "            first_term = np.sqrt(sum(\n",
    "                [get_attenuation(agent_in_cluster1, cluster2, clusters_to_agents_dict, agents_to_clusters_dict, closeness_matrix, agents_to_contributions_dict) / \n",
    "                 agent_to_num_clusters_participating_dict[agent_in_cluster1] for agent_in_cluster1 in agents_in_cluster1]))\n",
    "                \n",
    "            second_term = np.sqrt(sum(\n",
    "                [get_attenuation(agent_in_cluster2, cluster1, clusters_to_agents_dict, agents_to_clusters_dict, closeness_matrix, agents_to_contributions_dict) / \n",
    "                 agent_to_num_clusters_participating_dict[agent_in_cluster2] for agent_in_cluster2 in agents_in_cluster2]))\n",
    "    \n",
    "            term_on_the_right += first_term * second_term\n",
    "        \n",
    "    return term_on_the_left + term_on_the_right\n",
    "    "
   ]
  },
  {
   "cell_type": "code",
   "execution_count": 10,
   "id": "3a82a508-cf32-4832-acff-c86e6eaf1ba8",
   "metadata": {},
   "outputs": [
    {
     "data": {
      "text/plain": [
       "2897.434095291871"
      ]
     },
     "execution_count": 10,
     "metadata": {},
     "output_type": "execute_result"
    }
   ],
   "source": [
    "connection_oriented_cluster_match(agents_to_contributions_dict, clusters_to_agents_dict)"
   ]
  }
 ],
 "metadata": {
  "kernelspec": {
   "display_name": "Python 3 (ipykernel)",
   "language": "python",
   "name": "python3"
  },
  "language_info": {
   "codemirror_mode": {
    "name": "ipython",
    "version": 3
   },
   "file_extension": ".py",
   "mimetype": "text/x-python",
   "name": "python",
   "nbconvert_exporter": "python",
   "pygments_lexer": "ipython3",
   "version": "3.9.13"
  }
 },
 "nbformat": 4,
 "nbformat_minor": 5
}
