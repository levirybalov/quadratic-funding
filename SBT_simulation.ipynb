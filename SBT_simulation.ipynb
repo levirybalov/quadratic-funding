{
 "cells": [
  {
   "cell_type": "markdown",
   "metadata": {},
   "source": [
    "## Model (One-Shot)\n",
    "\n",
    "The model consists of the following elements:\n",
    "\n",
    "* agents $a_1, a_2, \\ldots, a_n \\in A$ \n",
    "\n",
    "* projects $p_1, p_2, \\ldots, p_m \\in P$\n",
    "\n",
    "* clusters $c_1, c_2, \\ldots, c_s \\in C$\n",
    "\n",
    "* agents budgets $b_1, b_2, \\ldots, b_n \\in \\mathbb{R}^+$\n",
    "\n",
    "* agents private beliefs $l_1, l_2, \\ldots, l_n \\in \\mathbb{R}^{m+}$\n",
    "\n",
    "* agents have public voices $v_1, v_2, \\ldots, v_n \\in \\mathbb{R}$ such that $v_i \\le b_i, \\ \\forall a \\in A$ \n",
    "\n",
    "* each pair of agents $a_i, a_j$ have a set of affiliations over clusters $f_{ij} \\in \\mathbb{R}^{s+}$\n",
    "\n",
    "* agent-agent-cluster affiliation matrix $F$\n",
    "\n",
    "* each cluster $c_i$ has a set of affiliations over project $p_j$, $g_{ij} \\in \\mathbb{R}^{m+}$\n",
    "\n",
    "* cluster-project affiliation matrix $G$\n",
    "\n",
    "\n",
    "In order to accomodate the equations in the SBT paper, we need a function to reduce the set of agent-agent affiliations over clusters to a single value. For now, to get a single agent-agent affiliation, we simply take the sum of the values in the corresponding agent-agent affiliation vector.\n",
    "\n",
    "In order to account for affiliations of clusters to projects, we can transform the agent-agent-cluster matrix to a agent-agent-project matrix, and then reduce those values (as before, for now, we simply take the sum of the values).\n",
    "\n",
    "This process gives a way to model the agents' public voices from their private beliefs, and Wgives us a setting from which we can plug values into the equations in the SBT paper\n",
    "\n",
    "\n",
    "\n",
    "\n",
    "### Notes\n",
    "\n",
    "A potential goal is to have agents' private beliefs equal their public voices (incentive-compatiblity).\n",
    "\n",
    "It is possible to weight the importance every agent gives to every cluster in order to get a more refined consolidation of agent-agent affiliation (the same is true of clusters giving importance to projects).\n",
    "\n",
    "We are multiplying agents' affiliation weights by the other agents' private values, not public values.\n",
    "\n",
    "Prior research on homophily, diffusion, and learning in networks can be leveraged in this environment.\n",
    "\n",
    "We can use matrix factorization and other decomposition methods to make some interesting insights (given real-world data). "
   ]
  },
  {
   "cell_type": "code",
   "execution_count": 1,
   "metadata": {
    "id": "G5qpc0Pi4Uu5"
   },
   "outputs": [],
   "source": [
    "import numpy as np    \n",
    "\n",
    "# !pip install import_ipynb\n",
    "import import_ipynb"
   ]
  },
  {
   "cell_type": "code",
   "execution_count": 2,
   "metadata": {
    "colab": {
     "base_uri": "https://localhost:8080/"
    },
    "id": "WyVV2p-om9EB",
    "outputId": "b547d1e2-0e8f-4dff-c651-3d1483e2fc77"
   },
   "outputs": [],
   "source": [
    "%%capture  \n",
    "from SBT import *"
   ]
  },
  {
   "cell_type": "code",
   "execution_count": 3,
   "metadata": {
    "id": "PcpSfIBXx4bC"
   },
   "outputs": [],
   "source": [
    "num_agents = 100\n",
    "num_projects = 10\n",
    "num_clusters = 20"
   ]
  },
  {
   "cell_type": "code",
   "execution_count": 4,
   "metadata": {
    "id": "rWZsxpB8nSlz"
   },
   "outputs": [],
   "source": [
    "agents = list(map(str, range(num_agents)))"
   ]
  },
  {
   "cell_type": "code",
   "execution_count": 5,
   "metadata": {
    "id": "oO-x-GpHuBpv"
   },
   "outputs": [],
   "source": [
    "def create_clusters_to_agents_dict():\n",
    "    \"\"\"\n",
    "    :return: a dictionary mapping clusters to the agents in those clusters\n",
    "    \"\"\"\n",
    "    # initialize a dictionary mapping each cluster id to the agents in that cluster\n",
    "    clusters_to_agents_dict = {}\n",
    "    # array describing the fraction of agents in each cluster \n",
    "    fraction_of_agents_in_each_cluster = [0.20] * num_clusters\n",
    "    # populate the dictionary\n",
    "    for cluster in range(num_clusters):\n",
    "        # get the fraction of agents in this cluster\n",
    "        fraction_of_agents_in_this_cluster = fraction_of_agents_in_each_cluster[cluster]\n",
    "        # randomly select agents to include in this cluster\n",
    "        agents_in_cluster = np.random.choice(agents, size=int(fraction_of_agents_in_this_cluster * num_agents), replace=False)\n",
    "        # assign agents to the cluster\n",
    "        clusters_to_agents_dict[cluster] = agents_in_cluster\n",
    "        \n",
    "    return clusters_to_agents_dict"
   ]
  },
  {
   "cell_type": "markdown",
   "metadata": {},
   "source": [
    "## Basic Model Components "
   ]
  },
  {
   "cell_type": "code",
   "execution_count": 6,
   "metadata": {
    "id": "HwSR_6hzx4bM"
   },
   "outputs": [],
   "source": [
    "# array describing the maximum amount that each agent can donate \n",
    "agent_budgets = np.zeros([num_agents])\n",
    "# matrix describing the affiliation of each agent with each other agent on each cluster\n",
    "# so an entry (i, j, k) is an array of length num_clusters representing the affiliation of agents i and j on each cluster\n",
    "agent_agent_cluster_affiliation_matrix = np.zeros([num_agents, num_agents, num_clusters])\n",
    "# matrix describing the affiliation of each cluster to each project\n",
    "cluster_project_affiliation_matrix = np.zeros([num_projects, num_clusters])\n",
    "# a matrix describing each agent's private belief (how much they think that they should donate to each project)\n",
    "agent_private_beliefs = np.zeros([num_agents, num_projects])\n",
    "# a matrix describing each agent's public belief (how much they actually donate to each project)\n",
    "agent_public_beliefs = np.zeros([num_agents, num_projects])"
   ]
  },
  {
   "cell_type": "markdown",
   "metadata": {
    "id": "i63VCW7nx4bV"
   },
   "source": [
    "Strategy to create agent private beliefs: start out with some (maybe random) vector to denote an agent's private beliefs, and then account for agent affiliations on top of that."
   ]
  },
  {
   "cell_type": "code",
   "execution_count": 7,
   "metadata": {
    "id": "Ceb89A3Jx4bd"
   },
   "outputs": [],
   "source": [
    "def create_agent_budgets():\n",
    "    \"\"\"\n",
    "    :return: an array of the agents' budgets\n",
    "    \"\"\"\n",
    "\n",
    "    # create agent budgets\n",
    "    agent_budget_lower_bound = 0\n",
    "    agent_budget_upper_bound = 100\n",
    "    agent_budgets = np.random.uniform(low=agent_budget_lower_bound, high=agent_budget_upper_bound, size=[num_agents])\n",
    "    \n",
    "    return agent_budgets"
   ]
  },
  {
   "cell_type": "code",
   "execution_count": 8,
   "metadata": {
    "id": "YSsgQNatx4bj"
   },
   "outputs": [],
   "source": [
    "def create_agent_private_beliefs():\n",
    "    \"\"\"\n",
    "    :return: a matrix of size num_agents x num_projects, where entry (i, j) corresponds to agent i's private belief about project j\n",
    "    \"\"\"\n",
    "\n",
    "    # alternative 1\n",
    "    \"\"\"\n",
    "    # create agent private beliefs\n",
    "    agent_private_belief_lower_bound = 0\n",
    "    agent_private_belief_upper_bound = 10\n",
    "    agent_private_beliefs = np.random.uniform(low=agent_private_belief_lower_bound, high=agent_private_belief_upper_bound, size=[num_agents, num_projects])\n",
    "    \n",
    "    return agent_private_beliefs\n",
    "    \"\"\"\n",
    "    \n",
    "    # alternative 2\n",
    "    # create agent private beliefs\n",
    "    agent_private_belief_lower_bound = 0.1\n",
    "    agent_private_belief_upper_bound = 100\n",
    "    agent_private_beliefs = np.random.uniform(low=agent_private_belief_lower_bound, high=agent_private_belief_upper_bound, size=[num_agents, num_projects])\n",
    "    \n",
    "    # set each private belief to 0 with probability e^-(private belief/temperature_scaling_factor), \n",
    "    # so that the higher the value, the lower the probability of being set to zero\n",
    "    temperature_scaling_factor = 1\n",
    "    exponentiated_agent_private_beliefs = np.exp(-agent_private_beliefs / temperature_scaling_factor)\n",
    "    mask_agent_private_beliefs = np.random.binomial(n=np.full_like(exponentiated_agent_private_beliefs, fill_value=1, dtype=int), \n",
    "                                                                p=exponentiated_agent_private_beliefs,\n",
    "                                                                size=exponentiated_agent_private_beliefs.shape)\n",
    "\n",
    "    # apply the 0-1 mask to the affiliation matrix\n",
    "    agent_private_beliefs *= mask_agent_private_beliefs\n",
    "    \n",
    "    # make sure each agent has a positive sum over beliefs\n",
    "    for num_agent in range(num_agents):\n",
    "        if sum(agent_private_beliefs[num_agent]) == 0:\n",
    "            index_to_modify = np.random.choice(range(num_projects))\n",
    "            agent_private_beliefs[num_agent, index_to_modify] = np.random.uniform(low=agent_private_belief_lower_bound, high=agent_private_belief_upper_bound)\n",
    "\n",
    "    return agent_private_beliefs"
   ]
  },
  {
   "cell_type": "code",
   "execution_count": 9,
   "metadata": {
    "id": "9dSyvVzCx4bp"
   },
   "outputs": [],
   "source": [
    "def normalize_agent_beliefs_to_equal_budget(agent_private_beliefs, agent_budgets):\n",
    "    \"\"\"\n",
    "    :param agent_private_beliefs: an array of the agents' private beliefs\n",
    "    :param agent_budgets: an array of the agents' budgets\n",
    "    :return: an array of the agents' private beliefs normalized so that the sum of each agent's beliefs equals their budget\n",
    "    \"\"\"\n",
    "\n",
    "    # assuming agents use up all their budgets, normalize their private beliefs to equal their budgets\n",
    "    agent_sum_beliefs = agent_private_beliefs.sum(axis=1)\n",
    "    agent_sum_beliefs_normalizing_factor = (agent_budgets / agent_private_beliefs.sum(axis=1))[:, None]\n",
    "    agent_private_beliefs = agent_private_beliefs * agent_sum_beliefs_normalizing_factor\n",
    "    \n",
    "    return agent_private_beliefs"
   ]
  },
  {
   "cell_type": "code",
   "execution_count": 10,
   "metadata": {
    "id": "GW88e29wx4b2"
   },
   "outputs": [],
   "source": [
    "def create_agent_agent_cluster_affiliation_matrix():\n",
    "    \"\"\"\n",
    "    :return: a matrix of size num_agents x num_agents x num_clusters, where entry (i, j, k) corresponds to \n",
    "    agent i's and agent's j's affiliation on cluster k\n",
    "    \"\"\"\n",
    "\n",
    "    \n",
    "    # alternative 1\n",
    "    \"\"\"\n",
    "    # create the agent-agent-cluster affiliation matrix\n",
    "    agent_agent_cluster_affiliation_lower_bound = 0\n",
    "    agent_agent_cluster_affiliation_upper_bound = 10\n",
    "    agent_agent_cluster_affiliation_matrix = np.random.uniform(low=agent_agent_cluster_affiliation_lower_bound, high=agent_agent_cluster_affiliation_upper_bound, size=[num_agents, num_agents, num_clusters])\n",
    "\n",
    "    # make matrix symmetric\n",
    "    for row in range(num_agents):\n",
    "        for column in range(row, num_agents):\n",
    "            agent_agent_cluster_affiliation_matrix[column, row] = agent_agent_cluster_affiliation_matrix[row, column]\n",
    "            \n",
    "            \n",
    "    return agent_agent_cluster_affiliation_matrix\n",
    "    \"\"\"\n",
    "    \n",
    "    # alternative 2\n",
    "    # for each cluster, let each agent-agent affiliation be drawn from an exponential function with its own cluster-specific parameter\n",
    "    agent_agent_cluster_parameter_affiliation_lower_bound = 0.1\n",
    "    agent_agent_cluster_parameter_affiliation_upper_bound = 10\n",
    "    # agent_agent_cluster_exponential_parameters = np.random.uniform(low=agent_agent_cluster_parameter_affiliation_lower_bound, \n",
    "    #                                                                 high=agent_agent_cluster_parameter_affiliation_upper_bound, \n",
    "    #                                                                 size=num_clusters)\n",
    "    agent_agent_cluster_parameter_affiliation_parameter = np.mean(agent_agent_cluster_parameter_affiliation_lower_bound + agent_agent_cluster_parameter_affiliation_upper_bound)\n",
    "    agent_agent_cluster_exponential_parameters = np.random.exponential(scale=agent_agent_cluster_parameter_affiliation_parameter, \n",
    "                                                                       size=num_clusters)\n",
    "    \n",
    "    # create the agent-agent-cluster affiliation matrix\n",
    "    agent_agent_cluster_affiliation_matrix = np.zeros(shape=[num_agents, num_agents, num_clusters])\n",
    "    for num_cluster in range(num_clusters):\n",
    "        current_cluster_parameter = agent_agent_cluster_exponential_parameters[num_cluster]\n",
    "        agent_agent_cluster_affiliation_matrix[:, :, num_cluster] = np.random.exponential(scale=current_cluster_parameter, size=[num_agents, num_agents])\n",
    "\n",
    "    # set each value in the agent-agent-cluster affiliation matrix to 0 with probability e^-(value/temperature_scaling_factor), \n",
    "    # so that the higher the value, the lower the probability of being set to zero\n",
    "    temperature_scaling_factor = np.mean(agent_agent_cluster_parameter_affiliation_lower_bound + agent_agent_cluster_parameter_affiliation_upper_bound)\n",
    "    exponentiated_agent_agent_cluster_affiliation_matrix = np.exp(-agent_agent_cluster_affiliation_matrix / temperature_scaling_factor)\n",
    "    mask_agent_agent_cluster_affiliation_matrix = np.random.binomial(n=np.full_like(exponentiated_agent_agent_cluster_affiliation_matrix, fill_value=1, dtype=int), \n",
    "                                                                p=exponentiated_agent_agent_cluster_affiliation_matrix,\n",
    "                                                                size=exponentiated_agent_agent_cluster_affiliation_matrix.shape)\n",
    "\n",
    "    # apply the 0-1 mask to the affiliation matrix\n",
    "    agent_agent_cluster_affiliation_matrix *= mask_agent_agent_cluster_affiliation_matrix\n",
    "\n",
    "    # make matrix symmetric\n",
    "    for row in range(num_agents):\n",
    "        for column in range(row, num_agents):\n",
    "            agent_agent_cluster_affiliation_matrix[column, row] = agent_agent_cluster_affiliation_matrix[row, column]\n",
    "\n",
    "    return agent_agent_cluster_affiliation_matrix"
   ]
  },
  {
   "cell_type": "code",
   "execution_count": 11,
   "metadata": {
    "id": "hVWHm1bRx4b-"
   },
   "outputs": [],
   "source": [
    "def create_cluster_project_affiliation_matrix():\n",
    "    \"\"\"\n",
    "    :return: a matrix of size num_clusters x num_projects, where entry (i, j) corresponds to clusters i's and project j's affiliation\n",
    "    \"\"\"\n",
    "\n",
    "    \n",
    "    # alternative 1\n",
    "    \"\"\"\n",
    "    # create the cluster-project affiliation matrix\n",
    "    cluster_project_affiliation_lower_bound = 0\n",
    "    cluster_project_affiliation_upper_bound = 10\n",
    "    cluster_project_affiliation_matrix = np.random.uniform(low=cluster_project_affiliation_lower_bound, high=cluster_project_affiliation_upper_bound, size=[num_projects, num_clusters])\n",
    "\n",
    "    return cluster_project_affiliation_matrix\n",
    "    \"\"\"\n",
    "\n",
    "    # alternative 2\n",
    "    # for each cluster, let each project affiliation be drawn from an exponential function with its own cluster-specific parameter\n",
    "    cluster_project_affiliation_lower_bound = 0.1\n",
    "    cluster_project_affiliation_upper_bound = 10\n",
    "    # cluster_project_exponential_parameters = np.random.uniform(low=cluster_project_affiliation_lower_bound, \n",
    "    #                                                            high=cluster_project_affiliation_upper_bound, \n",
    "    #                                                            size=num_clusters)\n",
    "    agent_agent_cluster_parameter_affiliation_parameter = np.mean(cluster_project_affiliation_lower_bound + cluster_project_affiliation_upper_bound)\n",
    "    cluster_project_exponential_parameters = np.random.exponential(scale=agent_agent_cluster_parameter_affiliation_parameter, \n",
    "                                                                       size=num_clusters)\n",
    "    \n",
    "    # create the cluster-project affiliation matrix\n",
    "    cluster_project_affiliation_matrix = np.zeros(shape=[num_clusters, num_projects])\n",
    "    for num_cluster in range(num_clusters):\n",
    "        current_cluster_parameter = cluster_project_exponential_parameters[num_cluster]\n",
    "        cluster_project_affiliation_matrix[num_cluster, :] = np.random.exponential(scale=current_cluster_parameter, size=[num_projects])\n",
    "\n",
    "    # set each value in the cluster-project affiliation matrix to 0 with probability e^-(value/temperature_scaling_factor), \n",
    "    # so that the higher the value, the lower the probability of being set to zero\n",
    "    temperature_scaling_factor = np.mean(cluster_project_affiliation_lower_bound + cluster_project_affiliation_upper_bound)\n",
    "    exponentiated_cluster_project_affiliation_matrix = np.exp(-cluster_project_affiliation_matrix / temperature_scaling_factor)\n",
    "    mask_cluster_project_affiliation_matrix = np.random.binomial(n=np.full_like(exponentiated_cluster_project_affiliation_matrix, fill_value=1, dtype=int), \n",
    "                                                                p=exponentiated_cluster_project_affiliation_matrix,\n",
    "                                                                size=exponentiated_cluster_project_affiliation_matrix.shape)\n",
    "\n",
    "    # apply the 0-1 mask to the affiliation matrix\n",
    "    cluster_project_affiliation_matrix *= mask_cluster_project_affiliation_matrix\n",
    "\n",
    "    return cluster_project_affiliation_matrix"
   ]
  },
  {
   "cell_type": "markdown",
   "metadata": {},
   "source": [
    "## Modify the Agents' Private Beliefs\n",
    "\n",
    "Now we need a function to modify the agents' private beliefs to account for their affiliations."
   ]
  },
  {
   "cell_type": "code",
   "execution_count": 12,
   "metadata": {
    "id": "8Ax6R3ZQ-krI"
   },
   "outputs": [],
   "source": [
    "# method 1: take into account the agents' common clusters\n",
    "def modify_agent_private_beliefs(agent_private_beliefs, agent_agent_cluster_affiliation_matrix):\n",
    "    \"\"\"\n",
    "    :param agent_private_beliefs: an array of the agents' private beliefs\n",
    "    :param agent_agent_cluster_affiliation_matrix: a matrix of size num_agents x num_agents x num_clusters, where entry (i, j, k) corresponds to \n",
    "        agent i's and agent's j's affiliation on cluster k\n",
    "    :return: an array of the agents' private beliefs modified to account for agent-agent-cluster affiliations \n",
    "    \"\"\"\n",
    "\n",
    "    # reduce cluster affiliations by summing up components for each agent-agent affiliation vector\n",
    "    agent_agent_affiliation_matrix = agent_agent_cluster_affiliation_matrix.sum(axis=2)\n",
    "    \n",
    "    # # make the resulting matrix row-stochastic\n",
    "    # agent_agent_affiliation_matrix_normalized = agent_agent_affiliation_matrix / agent_agent_affiliation_matrix.sum(axis=1)[:, None]\n",
    "    \n",
    "    # modify the agents' private beliefs to account for their affiliations with other agents \n",
    "    # through their common clusters\n",
    "    agent_private_beliefs_modified = agent_agent_affiliation_matrix @ agent_private_beliefs\n",
    "\n",
    "    return agent_private_beliefs_modified\n"
   ]
  },
  {
   "cell_type": "code",
   "execution_count": 13,
   "metadata": {
    "id": "R2U-6d03JPcw"
   },
   "outputs": [],
   "source": [
    "# method 2: take into account the agents' common clusters as well as the affiliations between projects and clusters\n",
    "def modify_agent_private_beliefs_with_project_affiliations(agent_private_beliefs, agent_agent_cluster_affiliation_matrix, cluster_project_affiliation_matrix):\n",
    "    \"\"\"\n",
    "    :param agent_private_beliefs: an array of the agents' private beliefs\n",
    "    :param agent_agent_cluster_affiliation_matrix: a matrix of size num_agents x num_agents x num_clusters, where entry (i, j, k) corresponds to \n",
    "        agent i's and agent's j's affiliation on cluster k\n",
    "    :param cluster_project_affiliation_matrix: a matrix of size num_clusters x num_projects, \n",
    "        where entry (i, j) corresponds to clusters i's and project j's affiliation\n",
    "    :return: an array of the agents' private beliefs modified to account for agent-agent-cluster affiliations \n",
    "    \"\"\"\n",
    "\n",
    "    # convert the agent-agent-cluster affiliations to agent-agent-project affiliations\n",
    "    agent_agent_project_affiliation_matrix = agent_agent_cluster_affiliation_matrix @ cluster_project_affiliation_matrix\n",
    "    # as before, reduce project affiliations by summing up components for each agent-agent affiliation vector\n",
    "    agent_agent_affiliation_matrix = agent_agent_project_affiliation_matrix.sum(axis=2)\n",
    "    # modify the agents' private beliefs to account for their affiliations with other agents \n",
    "    # through their common clusters\n",
    "    agent_private_beliefs_modified = agent_agent_affiliation_matrix @ agent_private_beliefs\n",
    "\n",
    "    return agent_private_beliefs_modified\n"
   ]
  },
  {
   "cell_type": "code",
   "execution_count": 14,
   "metadata": {
    "id": "fy_cKqOJvD7V"
   },
   "outputs": [],
   "source": [
    "def create_project_to_agents_to_contributions_dict_dict(agent_private_beliefs):\n",
    "    \"\"\"\n",
    "    :param agent_private_beliefs: an array of the agents' private beliefs\n",
    "    :return: a dictionary mapping a project to a dictionary mapping agents' contributions to that project\n",
    "    \"\"\"\n",
    "\n",
    "    # dictionary mapping a project to the agents_to_contributions_dict corresponding to that project\n",
    "    project_to_agents_to_contributions_dict_dict = {}\n",
    "    # populate the dictionaries\n",
    "    for project in range(num_projects):\n",
    "        # initialize a dictionary mapping each agent to their contribution\n",
    "        agents_to_contributions_dict = {}\n",
    "        for agent_index, agent in enumerate(agents):\n",
    "            agents_to_contributions_dict[agent] = agent_private_beliefs[agent_index, project]\n",
    "\n",
    "        project_to_agents_to_contributions_dict_dict[project] = agents_to_contributions_dict\n",
    "    \n",
    "    return project_to_agents_to_contributions_dict_dict"
   ]
  },
  {
   "cell_type": "code",
   "execution_count": 15,
   "metadata": {
    "colab": {
     "base_uri": "https://localhost:8080/"
    },
    "id": "lX2Fnj7ev5mR",
    "outputId": "6f15daa1-1dc4-4c84-83a7-8d580b5948dc"
   },
   "outputs": [],
   "source": [
    "def get_cluster_match_with_multiple_affiliations(clusters_to_agents_dict, project_to_agents_to_contributions_dict_dict):\n",
    "    \"\"\"\n",
    "    :param clusters_to_agents_dict: a dictionary mapping clusters to the agents in those clusters\n",
    "    :param project_to_agents_to_contributions_dict_dict: a dictionary mapping a project to a dictionary mapping agents' contributions to that project\n",
    "    :return: an array of the cluster matches\n",
    "    \"\"\"\n",
    " \n",
    "    cluster_matches = np.zeros(shape=num_projects)\n",
    "    for project in range(num_projects):\n",
    "        agents_to_contributions_dict = project_to_agents_to_contributions_dict_dict[project]\n",
    "        cluster_match_with_multiple_affiliations_output = cluster_match_with_multiple_affiliations(agents_to_contributions_dict, clusters_to_agents_dict)\n",
    "        # print(f\"The cluster match with multiple affiliations for project {project} is {cluster_match_with_multiple_affiliations_output}\")\n",
    "        cluster_matches[project] = cluster_match_with_multiple_affiliations_output\n",
    "        \n",
    "    return cluster_matches"
   ]
  },
  {
   "cell_type": "markdown",
   "metadata": {
    "id": "0dbfX8rltKAz"
   },
   "source": [
    "## Simple Simulation\n",
    "\n",
    "Suppose we set one agent's public voice to completely copy that of another agent's. What happens?"
   ]
  },
  {
   "cell_type": "code",
   "execution_count": 16,
   "metadata": {},
   "outputs": [],
   "source": [
    "def initialize_variables():\n",
    "    \"\"\"\n",
    "    :return: initialized variables: \n",
    "             clusters_to_agents_dict, agent_budgets, agent_private_beliefs, \n",
    "             agent_agent_cluster_affiliation_matrix, cluster_project_affiliation_matrix\n",
    "    \"\"\"\n",
    "    \n",
    "    # create the clusters to agents dictionary\n",
    "    clusters_to_agents_dict = create_clusters_to_agents_dict()\n",
    "    # create the agents' budgets\n",
    "    agent_budgets = create_agent_budgets()\n",
    "    # create the agent's private beliefs\n",
    "    agent_private_beliefs = create_agent_private_beliefs()\n",
    "    # normalize the agents' private beliefs so that their sums match their budgets\n",
    "    agent_private_beliefs = normalize_agent_beliefs_to_equal_budget(agent_private_beliefs, agent_budgets)\n",
    "    # confirm that the above normalization worked properly\n",
    "    assert(np.allclose(agent_private_beliefs.sum(axis=1), agent_budgets))\n",
    "    # create the agent-agent-cluster affiliation matrix\n",
    "    agent_agent_cluster_affiliation_matrix = create_agent_agent_cluster_affiliation_matrix()\n",
    "    # create the cluster-project affiliation matrix\n",
    "    cluster_project_affiliation_matrix = create_cluster_project_affiliation_matrix()\n",
    "\n",
    "    return clusters_to_agents_dict, agent_budgets, agent_private_beliefs, agent_agent_cluster_affiliation_matrix, cluster_project_affiliation_matrix"
   ]
  },
  {
   "cell_type": "code",
   "execution_count": 17,
   "metadata": {},
   "outputs": [],
   "source": [
    "def account_for_affiliations(agent_budgets, agent_private_beliefs, agent_agent_cluster_affiliation_matrix, cluster_project_affiliation_matrix):\n",
    "    \"\"\"\n",
    "    :param agent_budgets: an array of the agents' budgets\n",
    "    :param agent_private_beliefs: an array of the agents' private beliefs\n",
    "    :param agent_agent_cluster_affiliation_matrix: a matrix of size num_agents x num_agents x num_clusters, where entry (i, j, k) corresponds to \n",
    "        agent i's and agent's j's affiliation on cluster k\n",
    "    :param cluster_project_affiliation_matrix: a matrix of size num_clusters x num_projects, \n",
    "        where entry (i, j) corresponds to clusters i's and project j's affiliation\n",
    "    :return: agents' private beliefs after modification and normalization\n",
    "    \"\"\"\n",
    "    \n",
    "    # modify the agents' private beliefs to account for the agent-agent-cluster affiliation matrix\n",
    "    # agent_private_beliefs_modified = modify_agent_private_beliefs(agent_private_beliefs, agent_agent_cluster_affiliation_matrix)\n",
    "    # modify the agents' private beliefs to account for the agent-agent-cluster affiliation matrix and the cluster-project  affiliation matrix    \n",
    "    agent_private_beliefs_modified_with_project_affiliations = modify_agent_private_beliefs_with_project_affiliations(agent_private_beliefs, agent_agent_cluster_affiliation_matrix, cluster_project_affiliation_matrix)\n",
    "    # normalize the agents' private beliefs so that their sums match their budgets\n",
    "    agent_private_beliefs_modified_with_project_affiliations = normalize_agent_beliefs_to_equal_budget(agent_private_beliefs_modified_with_project_affiliations, agent_budgets)\n",
    "    # confirm that the above normalization worked properly\n",
    "    assert(np.allclose(agent_private_beliefs_modified_with_project_affiliations.sum(axis=1), agent_budgets))\n",
    "\n",
    "    return agent_private_beliefs_modified_with_project_affiliations"
   ]
  },
  {
   "cell_type": "code",
   "execution_count": 18,
   "metadata": {},
   "outputs": [],
   "source": [
    "def run_simulation():\n",
    "    \"\"\"\n",
    "    initializes values for basic variables and computes the difference in cluster matches after selecting one agent to\n",
    "    copy another agent's public voice\n",
    "    \"\"\"\n",
    "    \n",
    "    # initialize variables\n",
    "    clusters_to_agents_dict, agent_budgets, agent_private_beliefs, agent_agent_cluster_affiliation_matrix, cluster_project_affiliation_matrix = initialize_variables()\n",
    "    # get the agents' modified beliefs (public voices)\n",
    "    agent_private_beliefs_modified_with_project_affiliations = account_for_affiliations(agent_budgets, agent_private_beliefs, agent_agent_cluster_affiliation_matrix, cluster_project_affiliation_matrix)\n",
    "    # create the dictionary mapping projects to dictionaries mapping each agent's contribution to that project\n",
    "    project_to_agents_to_contributions_dict_dict = create_project_to_agents_to_contributions_dict_dict(agent_private_beliefs_modified_with_project_affiliations)\n",
    "    # get the cluster matches \n",
    "    cluster_match_with_multiple_affiliations_output = get_cluster_match_with_multiple_affiliations(clusters_to_agents_dict, project_to_agents_to_contributions_dict_dict)\n",
    "    \n",
    "    \"\"\"\n",
    "    suppose one agent modifies their public voice to completely align with another agent's public voice\n",
    "    \"\"\"\n",
    "    \n",
    "    # agent to modify\n",
    "    agent_to_modify = np.random.randint(low=0, high=num_agents)\n",
    "    # agent to copy\n",
    "    agent_to_copy = agent_to_modify\n",
    "    while agent_to_copy == agent_to_modify:\n",
    "        agent_to_copy = np.random.randint(low=0, high=num_agents)\n",
    "    # modify the agent's private belief\n",
    "    agent_private_beliefs_modified_with_project_affiliations_2 = agent_private_beliefs_modified_with_project_affiliations.copy()\n",
    "    agent_private_beliefs_modified_with_project_affiliations_2[agent_to_modify] = agent_private_beliefs_modified_with_project_affiliations[agent_to_copy].copy()\n",
    "    \n",
    "    # re-normalize the agents' private beliefs (should only impact the agent whose beliefs were modified)\n",
    "    agent_private_beliefs_modified_with_project_affiliations_2 = normalize_agent_beliefs_to_equal_budget(agent_private_beliefs_modified_with_project_affiliations_2, agent_budgets)\n",
    "    # confirm that the above normalization worked properly\n",
    "    assert(np.allclose(agent_private_beliefs_modified_with_project_affiliations_2.sum(axis=1), agent_budgets))\n",
    "    # create the dictionary mapping projects to dictionaries mapping each agent's contribution to that project\n",
    "    project_to_agents_to_contributions_dict_dict_2 = create_project_to_agents_to_contributions_dict_dict(agent_private_beliefs_modified_with_project_affiliations_2)\n",
    "    # get the second set of cluster matches \n",
    "    cluster_match_with_multiple_affiliations_output_2 = get_cluster_match_with_multiple_affiliations(clusters_to_agents_dict, project_to_agents_to_contributions_dict_dict_2)\n",
    "    \n",
    "    return cluster_match_with_multiple_affiliations_output, cluster_match_with_multiple_affiliations_output_2"
   ]
  },
  {
   "cell_type": "code",
   "execution_count": 19,
   "metadata": {},
   "outputs": [],
   "source": [
    "cluster_match_with_multiple_affiliations_output_1, cluster_match_with_multiple_affiliations_output_2 = run_simulation()"
   ]
  },
  {
   "cell_type": "code",
   "execution_count": 20,
   "metadata": {},
   "outputs": [
    {
     "name": "stdout",
     "output_type": "stream",
     "text": [
      "difference in cluster match for project 0: -22.163867362403835\n",
      "difference in cluster match for project 1: -22.417958503872796\n",
      "difference in cluster match for project 2: -30.85489915985454\n",
      "difference in cluster match for project 3: 2.968354807333526\n",
      "difference in cluster match for project 4: 73.52457064504415\n",
      "difference in cluster match for project 5: 37.132067858646224\n",
      "difference in cluster match for project 6: -27.415003571819398\n",
      "difference in cluster match for project 7: 12.30129669885173\n",
      "difference in cluster match for project 8: -21.466667348664487\n",
      "difference in cluster match for project 9: -3.494991805713653\n",
      "\n",
      "difference in sum of cluster matches = -1.8870977424530793\n"
     ]
    }
   ],
   "source": [
    "# print the differences \n",
    "# keep in mind that these differences can vary wildly depending on how close the \n",
    "# two agents were prior to one copying the other\n",
    "for num_project in range(num_projects):\n",
    "    print(f\"difference in cluster match for project {num_project}: {cluster_match_with_multiple_affiliations_output_1[num_project] - cluster_match_with_multiple_affiliations_output_2[num_project]}\")\n",
    "print()\n",
    "print(f\"difference in sum of cluster matches = {sum(cluster_match_with_multiple_affiliations_output_1 - cluster_match_with_multiple_affiliations_output_2)}\")"
   ]
  }
 ],
 "metadata": {
  "colab": {
   "provenance": []
  },
  "kernelspec": {
   "display_name": "Python 3 (ipykernel)",
   "language": "python",
   "name": "python3"
  },
  "language_info": {
   "codemirror_mode": {
    "name": "ipython",
    "version": 3
   },
   "file_extension": ".py",
   "mimetype": "text/x-python",
   "name": "python",
   "nbconvert_exporter": "python",
   "pygments_lexer": "ipython3",
   "version": "3.9.13"
  }
 },
 "nbformat": 4,
 "nbformat_minor": 4
}
